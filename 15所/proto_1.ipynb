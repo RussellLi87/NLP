{
 "cells": [
  {
   "cell_type": "code",
   "execution_count": 1,
   "metadata": {},
   "outputs": [],
   "source": [
    "import os\n",
    "import jieba\n",
    "import string"
   ]
  },
  {
   "cell_type": "markdown",
   "metadata": {},
   "source": [
    "### 1. Load Text Data"
   ]
  },
  {
   "cell_type": "code",
   "execution_count": 2,
   "metadata": {},
   "outputs": [],
   "source": [
    "with open('ham_5000.utf8', encoding='utf-8') as f:\n",
    "    ham_docs = f.readlines()\n",
    "with open('spam_5001.utf8', encoding='utf-8') as f:\n",
    "    spam_docs = f.readlines()"
   ]
  },
  {
   "cell_type": "markdown",
   "metadata": {},
   "source": [
    "### 2. Clean Text Data\n",
    "- We can filter out punctuation from tokens.\n",
    "- We can remove tokens that are just punctuation or contain numbers by using an isalpha() check on each token.\n",
    "- We can remove stop words."
   ]
  },
  {
   "cell_type": "code",
   "execution_count": 3,
   "metadata": {},
   "outputs": [
    {
     "name": "stderr",
     "output_type": "stream",
     "text": [
      "Building prefix dict from the default dictionary ...\n",
      "Loading model from cache C:\\Users\\Russe\\AppData\\Local\\Temp\\jieba.cache\n",
      "Loading model cost 0.766 seconds.\n",
      "Prefix dict has been built successfully.\n"
     ]
    }
   ],
   "source": [
    "with open('stopwords.txt', encoding='utf-8') as f:\n",
    "    stopwords = f.read().split('\\n')\n",
    "    \n",
    "def cleanText(docs):\n",
    "    cleanedText = []\n",
    "    for doc in docs:\n",
    "        words = jieba.cut(doc)\n",
    "        # remove remaining tokens that are not alphabetic, and\n",
    "        # filter out stop words\n",
    "        cleanedWords = [word for word in words\n",
    "                       if word.isalpha() and word not in stopwords]\n",
    "        sentence = ' '.join(cleanedWords)\n",
    "        cleanedText.append(sentence)\n",
    "    return cleanedText\n",
    "\n",
    "clean_ham = cleanText(ham_docs)\n",
    "clean_spam = cleanText(spam_docs)"
   ]
  },
  {
   "cell_type": "code",
   "execution_count": 4,
   "metadata": {},
   "outputs": [],
   "source": [
    "from sklearn.feature_extraction.text import CountVectorizer\n",
    "import pandas as pd\n",
    "import numpy as np\n",
    "\n",
    "def transformTextToSparseMat(text):\n",
    "    vectorizer = CountVectorizer(binary=False)\n",
    "    vector = vectorizer.fit_transform(text)\n",
    "    vol = vectorizer.vocabulary_\n",
    "    data = pd.DataFrame(vector.toarray())\n",
    "    df = pd.DataFrame(vol.items(), columns=['key', 'value'])\n",
    "    colnames = df.sort_values(\"value\")[\"key\"].values\n",
    "    data.columns = colnames\n",
    "    return data\n",
    "\n",
    "data = []\n",
    "data.extend(clean_ham)\n",
    "data.extend(clean_spam)\n",
    "\n",
    "full_features = transformTextToSparseMat(data)\n",
    "\n",
    "features = pd.DataFrame(full_features.apply(sum,axis=0))\n",
    "# keep tokens with > 5 occurrence\n",
    "useful_features =  features.loc[features[0] > 5]\n",
    "useful_features = useful_features.index.to_list()\n",
    "\n",
    "X = full_features[useful_features]\n",
    "y = []\n",
    "y.extend(np.ones(5000))\n",
    "y.extend(np.zeros(5001))"
   ]
  },
  {
   "cell_type": "code",
   "execution_count": 5,
   "metadata": {},
   "outputs": [],
   "source": [
    "y = pd.DataFrame(y).astype('int8')"
   ]
  },
  {
   "cell_type": "markdown",
   "metadata": {},
   "source": [
    "### 3. Save Prepared Data"
   ]
  },
  {
   "cell_type": "code",
   "execution_count": 68,
   "metadata": {},
   "outputs": [],
   "source": [
    "X.to_csv('prepared.csv')"
   ]
  },
  {
   "cell_type": "code",
   "execution_count": null,
   "metadata": {},
   "outputs": [],
   "source": [
    "X = pd.read_csv('prepared.csv')"
   ]
  },
  {
   "cell_type": "markdown",
   "metadata": {},
   "source": [
    "### 4. Split into Train and Test Sets"
   ]
  },
  {
   "cell_type": "code",
   "execution_count": 6,
   "metadata": {},
   "outputs": [],
   "source": [
    "from sklearn.model_selection import train_test_split\n",
    "\n",
    "X_train, X_test, y_train, y_test = train_test_split(X, y, test_size=0.2)"
   ]
  },
  {
   "cell_type": "code",
   "execution_count": 7,
   "metadata": {},
   "outputs": [
    {
     "name": "stdout",
     "output_type": "stream",
     "text": [
      "(8000, 6647) (2001, 6647)\n",
      "(8000, 1) (2001, 1)\n"
     ]
    }
   ],
   "source": [
    "print(X_train.shape, X_test.shape)\n",
    "print(y_train.shape, y_test.shape)"
   ]
  },
  {
   "cell_type": "markdown",
   "metadata": {},
   "source": [
    "### 5. Fit Neural Network"
   ]
  },
  {
   "cell_type": "code",
   "execution_count": 8,
   "metadata": {},
   "outputs": [
    {
     "name": "stdout",
     "output_type": "stream",
     "text": [
      "Model: \"sequential\"\n",
      "_________________________________________________________________\n",
      "Layer (type)                 Output Shape              Param #   \n",
      "=================================================================\n",
      "dense (Dense)                (None, 100)               664800    \n",
      "_________________________________________________________________\n",
      "dense_1 (Dense)              (None, 1)                 101       \n",
      "=================================================================\n",
      "Total params: 664,901\n",
      "Trainable params: 664,901\n",
      "Non-trainable params: 0\n",
      "_________________________________________________________________\n",
      "Train on 8000 samples\n",
      "Epoch 1/10\n",
      "8000/8000 - 1s - loss: 0.0991 - accuracy: 0.9824\n",
      "Epoch 2/10\n",
      "8000/8000 - 0s - loss: 0.0144 - accuracy: 0.9965\n",
      "Epoch 3/10\n",
      "8000/8000 - 0s - loss: 0.0075 - accuracy: 0.9984\n",
      "Epoch 4/10\n",
      "8000/8000 - 0s - loss: 0.0053 - accuracy: 0.9987\n",
      "Epoch 5/10\n",
      "8000/8000 - 0s - loss: 0.0042 - accuracy: 0.9989\n",
      "Epoch 6/10\n",
      "8000/8000 - 0s - loss: 0.0036 - accuracy: 0.9991\n",
      "Epoch 7/10\n",
      "8000/8000 - 0s - loss: 0.0032 - accuracy: 0.9992\n",
      "Epoch 8/10\n",
      "8000/8000 - 0s - loss: 0.0029 - accuracy: 0.9992\n",
      "Epoch 9/10\n",
      "8000/8000 - 0s - loss: 0.0028 - accuracy: 0.9992\n",
      "Epoch 10/10\n",
      "8000/8000 - 1s - loss: 0.0026 - accuracy: 0.9992\n"
     ]
    },
    {
     "data": {
      "text/plain": [
       "<tensorflow.python.keras.callbacks.History at 0x22a3ba1c688>"
      ]
     },
     "execution_count": 8,
     "metadata": {},
     "output_type": "execute_result"
    }
   ],
   "source": [
    "from tensorflow.keras.models import Sequential\n",
    "from tensorflow.keras.layers import Dense\n",
    "\n",
    "n_voc = X_train.shape[1]\n",
    "\n",
    "# define the model\n",
    "def define_model(n_voc):\n",
    "    # define network\n",
    "    model = Sequential()\n",
    "    model.add(Dense(100, input_shape=(n_voc,), activation='relu'))\n",
    "    model.add(Dense(1, activation='sigmoid'))\n",
    "    # compile network\n",
    "    model.compile(loss='binary_crossentropy', optimizer='adam', metrics=['accuracy'])\n",
    "    # summarize defined network\n",
    "    model.summary()\n",
    "    return model\n",
    "\n",
    "model = define_model(n_voc)\n",
    "# fit network\n",
    "model.fit(X_train, y_train, epochs=10, verbose=2)"
   ]
  },
  {
   "cell_type": "code",
   "execution_count": null,
   "metadata": {},
   "outputs": [],
   "source": []
  }
 ],
 "metadata": {
  "kernelspec": {
   "display_name": "Python 3.7 (tensorflow)",
   "language": "python",
   "name": "tensorflow"
  },
  "language_info": {
   "codemirror_mode": {
    "name": "ipython",
    "version": 3
   },
   "file_extension": ".py",
   "mimetype": "text/x-python",
   "name": "python",
   "nbconvert_exporter": "python",
   "pygments_lexer": "ipython3",
   "version": "3.7.7"
  }
 },
 "nbformat": 4,
 "nbformat_minor": 4
}
