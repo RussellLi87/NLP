{
 "cells": [
  {
   "cell_type": "code",
   "execution_count": 1,
   "metadata": {},
   "outputs": [],
   "source": [
    "import os\n",
    "import jieba\n",
    "import string"
   ]
  },
  {
   "cell_type": "markdown",
   "metadata": {},
   "source": [
    "### 1. Load Text Data"
   ]
  },
  {
   "cell_type": "code",
   "execution_count": 2,
   "metadata": {},
   "outputs": [],
   "source": [
    "with open('ham_5000.utf8', encoding='utf-8') as f:\n",
    "    ham_docs = f.readlines()\n",
    "with open('spam_5001.utf8', encoding='utf-8') as f:\n",
    "    spam_docs = f.readlines()"
   ]
  },
  {
   "cell_type": "markdown",
   "metadata": {},
   "source": [
    "### 2. Clean Text Data\n",
    "- We can filter out punctuation from tokens.\n",
    "- We can remove tokens that are just punctuation or contain numbers by using an isalpha() check on each token.\n",
    "- We can remove stop words."
   ]
  },
  {
   "cell_type": "code",
   "execution_count": 3,
   "metadata": {},
   "outputs": [
    {
     "name": "stderr",
     "output_type": "stream",
     "text": [
      "Building prefix dict from the default dictionary ...\n",
      "Loading model from cache C:\\Users\\Russe\\AppData\\Local\\Temp\\jieba.cache\n",
      "Loading model cost 0.766 seconds.\n",
      "Prefix dict has been built successfully.\n"
     ]
    }
   ],
   "source": [
    "with open('stopwords.txt', encoding='utf-8') as f:\n",
    "    stopwords = f.read().split('\\n')\n",
    "    \n",
    "def cleanText(docs):\n",
    "    cleanedText = []\n",
    "    for doc in docs:\n",
    "        words = jieba.cut(doc)\n",
    "        # remove remaining tokens that are not alphabetic, and\n",
    "        # filter out stop words\n",
    "        cleanedWords = [word for word in words\n",
    "                       if word.isalpha() and word not in stopwords]\n",
    "        sentence = ' '.join(cleanedWords)\n",
    "        cleanedText.append(sentence)\n",
    "    return cleanedText\n",
    "\n",
    "clean_ham = cleanText(ham_docs)\n",
    "clean_spam = cleanText(spam_docs)"
   ]
  },
  {
   "cell_type": "code",
   "execution_count": 4,
   "metadata": {},
   "outputs": [],
   "source": [
    "from sklearn.feature_extraction.text import CountVectorizer\n",
    "import pandas as pd\n",
    "import numpy as np\n",
    "\n",
    "def transformTextToSparseMat(text):\n",
    "    vectorizer = CountVectorizer(binary=False)\n",
    "    vector = vectorizer.fit_transform(text)\n",
    "    vol = vectorizer.vocabulary_\n",
    "    data = pd.DataFrame(vector.toarray())\n",
    "    df = pd.DataFrame(vol.items(), columns=['key', 'value'])\n",
    "    colnames = df.sort_values(\"value\")[\"key\"].values\n",
    "    data.columns = colnames\n",
    "    return data\n",
    "\n",
    "data = []\n",
    "data.extend(clean_ham)\n",
    "data.extend(clean_spam)\n",
    "\n",
    "full_features = transformTextToSparseMat(data)\n",
    "\n",
    "features = pd.DataFrame(full_features.apply(sum,axis=0))\n",
    "# keep tokens with > 5 occurrence\n",
    "useful_features =  features.loc[features[0] > 5]\n",
    "useful_features = useful_features.index.to_list()\n",
    "\n",
    "X = full_features[useful_features]\n",
    "y = []\n",
    "y.extend(np.ones(5000))\n",
    "y.extend(np.zeros(5001))"
   ]
  },
  {
   "cell_type": "code",
   "execution_count": 5,
   "metadata": {},
   "outputs": [],
   "source": [
    "y = pd.DataFrame(y).astype('int8')"
   ]
  },
  {
   "cell_type": "markdown",
   "metadata": {},
   "source": [
    "### 3. Save Prepared Data"
   ]
  },
  {
   "cell_type": "code",
   "execution_count": 68,
   "metadata": {},
   "outputs": [],
   "source": [
    "X.to_csv('prepared.csv')"
   ]
  },
  {
   "cell_type": "code",
   "execution_count": null,
   "metadata": {},
   "outputs": [],
   "source": [
    "X = pd.read_csv('prepared.csv')"
   ]
  },
  {
   "cell_type": "markdown",
   "metadata": {},
   "source": [
    "### 4. Split into Train and Test Sets"
   ]
  },
  {
   "cell_type": "code",
   "execution_count": 6,
   "metadata": {},
   "outputs": [],
   "source": [
    "from sklearn.model_selection import train_test_split\n",
    "\n",
    "X_train, X_test, y_train, y_test = train_test_split(X, y, test_size=0.2)"
   ]
  },
  {
   "cell_type": "code",
   "execution_count": 7,
   "metadata": {},
   "outputs": [
    {
     "name": "stdout",
     "output_type": "stream",
     "text": [
      "(8000, 6647) (2001, 6647)\n",
      "(8000, 1) (2001, 1)\n"
     ]
    }
   ],
   "source": [
    "print(X_train.shape, X_test.shape)\n",
    "print(y_train.shape, y_test.shape)"
   ]
  },
  {
   "cell_type": "markdown",
   "metadata": {},
   "source": [
    "### 5. Fit Neural Network"
   ]
  },
  {
   "cell_type": "code",
   "execution_count": 20,
   "metadata": {},
   "outputs": [
    {
     "name": "stdout",
     "output_type": "stream",
     "text": [
      "Model: \"sequential_3\"\n",
      "_________________________________________________________________\n",
      "Layer (type)                 Output Shape              Param #   \n",
      "=================================================================\n",
      "dense_6 (Dense)              (None, 100)               664800    \n",
      "_________________________________________________________________\n",
      "dense_7 (Dense)              (None, 1)                 101       \n",
      "=================================================================\n",
      "Total params: 664,901\n",
      "Trainable params: 664,901\n",
      "Non-trainable params: 0\n",
      "_________________________________________________________________\n"
     ]
    }
   ],
   "source": [
    "from tensorflow.keras.models import Sequential\n",
    "from tensorflow.keras.layers import Dense\n",
    "\n",
    "n_voc = X_train.shape[1]\n",
    "\n",
    "# define the model\n",
    "def define_model(n_voc):\n",
    "    # define network\n",
    "    model = Sequential()\n",
    "    model.add(Dense(100, input_shape=(n_voc,), activation='relu'))\n",
    "    model.add(Dense(1, activation='sigmoid'))\n",
    "    # compile network\n",
    "    model.compile(loss='binary_crossentropy', optimizer='adam', metrics=['accuracy'])\n",
    "    # summarize defined network\n",
    "    model.summary()\n",
    "    return model\n",
    "\n",
    "model = define_model(n_voc)\n",
    "# fit network\n",
    "history = model.fit(X_train, y_train, validation_data=(X_test, y_test), \n",
    "                    epochs=30, verbose=0)\n",
    "\n",
    "#model.fit(X_train, y_train, epochs=10, verbose=2)"
   ]
  },
  {
   "cell_type": "code",
   "execution_count": 21,
   "metadata": {},
   "outputs": [
    {
     "name": "stdout",
     "output_type": "stream",
     "text": [
      "Train: 0.999, Test: 0.989\n"
     ]
    }
   ],
   "source": [
    "# evaluate the model\n",
    "_, train_acc = model.evaluate(X_train, y_train, verbose=0)\n",
    "_, test_acc = model.evaluate(X_test, y_test, verbose=0)\n",
    "print('Train: %.3f, Test: %.3f' % (train_acc, test_acc))\n",
    "\n",
    "#loss, acc = model.evaluate(X_test, y_test, verbose=0)\n",
    "#print('Test Accuracy: %f' % (acc*100))"
   ]
  },
  {
   "cell_type": "code",
   "execution_count": 28,
   "metadata": {},
   "outputs": [
    {
     "data": {
      "image/png": "[encoded data removed]",
      "text/plain": [
       "<Figure size 432x288 with 2 Axes>"
      ]
     },
     "metadata": {
      "needs_background": "light"
     },
     "output_type": "display_data"
    }
   ],
   "source": [
    "import matplotlib.pyplot as plt\n",
    "\n",
    "# plot loss during training\n",
    "plt.subplot(211)\n",
    "plt.title('Loss')\n",
    "plt.plot(history.history['loss'], label='train')\n",
    "plt.plot(history.history['val_loss'], label='test')\n",
    "plt.legend()\n",
    "# plot accuracy during training\n",
    "plt.subplot(212)\n",
    "plt.title('Accuracy')\n",
    "plt.plot(history.history['accuracy'], label='train')\n",
    "plt.plot(history.history['val_accuracy'], label='test')\n",
    "plt.legend()\n",
    "plt.show()"
   ]
  },
  {
   "cell_type": "code",
   "execution_count": 17,
   "metadata": {},
   "outputs": [
    {
     "name": "stdout",
     "output_type": "stream",
     "text": [
      "Confusion Matrix: \n",
      " [[1006    4]\n",
      " [  17  974]]\n",
      "f1 score:  0.98933468765871\n",
      "precision score:  0.9959100204498977\n",
      "recall score:  0.9828456104944501\n"
     ]
    }
   ],
   "source": [
    "from sklearn.metrics import f1_score, precision_score, recall_score, confusion_matrix\n",
    "\n",
    "y_pred = model.predict_classes(X_test)\n",
    "\n",
    "print('Confusion Matrix: \\n', confusion_matrix(y_test, y_pred))\n",
    "print('f1 score: ', f1_score(y_test, y_pred))\n",
    "print('precision score: ', precision_score(y_test, y_pred))\n",
    "print('recall score: ', recall_score(y_test, y_pred))"
   ]
  }
 ],
 "metadata": {
  "kernelspec": {
   "display_name": "Python 3.7 (tensorflow)",
   "language": "python",
   "name": "tensorflow"
  },
  "language_info": {
   "codemirror_mode": {
    "name": "ipython",
    "version": 3
   },
   "file_extension": ".py",
   "mimetype": "text/x-python",
   "name": "python",
   "nbconvert_exporter": "python",
   "pygments_lexer": "ipython3",
   "version": "3.7.7"
  }
 },
 "nbformat": 4,
 "nbformat_minor": 4
}
