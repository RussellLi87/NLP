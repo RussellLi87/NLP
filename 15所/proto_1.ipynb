{
 "cells": [
  {
   "cell_type": "code",
   "execution_count": 25,
   "metadata": {},
   "outputs": [],
   "source": [
    "import os\n",
    "import jieba\n",
    "import string"
   ]
  },
  {
   "cell_type": "markdown",
   "metadata": {},
   "source": [
    "### 1. Load Text Data"
   ]
  },
  {
   "cell_type": "code",
   "execution_count": 45,
   "metadata": {},
   "outputs": [],
   "source": [
    "with open('ham_5000.utf8', encoding='utf-8') as f:\n",
    "    ham_docs = f.readlines()\n",
    "with open('spam_5001.utf8', encoding='utf-8') as f:\n",
    "    spam_docs = f.readlines()"
   ]
  },
  {
   "cell_type": "markdown",
   "metadata": {},
   "source": [
    "### 2. Clean Text Data\n",
    "- We can filter out punctuation from tokens.\n",
    "- We can remove tokens that are just punctuation or contain numbers by using an isalpha() check on each token.\n",
    "- We can remove stop words."
   ]
  },
  {
   "cell_type": "code",
   "execution_count": 58,
   "metadata": {},
   "outputs": [],
   "source": [
    "with open('stopwords.txt', encoding='utf-8') as f:\n",
    "    stopwords = f.read().split('\\n')\n",
    "    \n",
    "def cleanText(docs):\n",
    "    cleanedText = []\n",
    "    for doc in docs:\n",
    "        words = jieba.cut(doc)\n",
    "        # remove remaining tokens that are not alphabetic, and\n",
    "        # filter out stop words\n",
    "        cleanedWords = [word for word in words\n",
    "                       if word.isalpha() and word not in stopwords]\n",
    "        sentence = ' '.join(cleanedWords)\n",
    "        cleanedText.append(sentence)\n",
    "    return cleanedText\n",
    "\n",
    "clean_ham = cleanText(ham_docs)\n",
    "clean_spam = cleanText(spam_docs)"
   ]
  },
  {
   "cell_type": "code",
   "execution_count": 63,
   "metadata": {},
   "outputs": [],
   "source": [
    "from sklearn.feature_extraction.text import CountVectorizer\n",
    "import pandas as pd\n",
    "import numpy as np\n",
    "\n",
    "def transformTextToSparseMat(text):\n",
    "    vectorizer = CountVectorizer(binary=False)\n",
    "    vector = vectorizer.fit_transform(text)\n",
    "    vol = vectorizer.vocabulary_\n",
    "    data = pd.DataFrame(vector.toarray())\n",
    "    df = pd.DataFrame(vol.items(), columns=['key', 'value'])\n",
    "    colnames = df.sort_values(\"value\")[\"key\"].values\n",
    "    data.columns = colnames\n",
    "    return data\n",
    "\n",
    "data = []\n",
    "data.extend(clean_ham)\n",
    "data.extend(clean_spam)\n",
    "\n",
    "full_features = transformTextToSparseMat(data)\n",
    "\n",
    "features = pd.DataFrame(full_features.apply(sum,axis=0))\n",
    "# keep tokens with > 5 occurrence\n",
    "useful_features =  features.loc[features[0] > 5]\n",
    "useful_features = useful_features.index.to_list()\n",
    "\n",
    "X = full_features[useful_features]\n",
    "y = []\n",
    "y.extend(np.ones(5000))\n",
    "y.extend(np.zeros(5001))"
   ]
  },
  {
   "cell_type": "markdown",
   "metadata": {},
   "source": [
    "### 3. Save Prepared Data"
   ]
  },
  {
   "cell_type": "code",
   "execution_count": 68,
   "metadata": {},
   "outputs": [],
   "source": [
    "X.to_csv('prepared.csv')"
   ]
  }
 ],
 "metadata": {
  "kernelspec": {
   "display_name": "Python 3.7 (tensorflow)",
   "language": "python",
   "name": "tensorflow"
  },
  "language_info": {
   "codemirror_mode": {
    "name": "ipython",
    "version": 3
   },
   "file_extension": ".py",
   "mimetype": "text/x-python",
   "name": "python",
   "nbconvert_exporter": "python",
   "pygments_lexer": "ipython3",
   "version": "3.7.7"
  }
 },
 "nbformat": 4,
 "nbformat_minor": 4
}
