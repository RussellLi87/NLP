{
 "cells": [
  {
   "cell_type": "code",
   "execution_count": 1,
   "metadata": {},
   "outputs": [],
   "source": [
    "import matplotlib.pyplot as plt\n",
    "import string\n",
    "import jieba\n",
    "import os\n",
    "import numpy as np\n",
    "import pandas as pd\n"
   ]
  },
  {
   "cell_type": "markdown",
   "metadata": {},
   "source": [
    "**1. Load spam and ham data sets**"
   ]
  },
  {
   "cell_type": "code",
   "execution_count": 5,
   "metadata": {},
   "outputs": [
    {
     "name": "stdout",
     "output_type": "stream",
     "text": [
      "Length of ham:  944638\n",
      "Length of spam:  613886\n"
     ]
    }
   ],
   "source": [
    "# ham list\n",
    "with open('ham_5000.utf8', encoding='utf-8') as f:\n",
    "    ham_list = f.readlines()\n",
    "# spam list\n",
    "with open('spam_5000.utf8', encoding='utf-8') as f:\n",
    "    spam_list = f.readlines()\n",
    "    \n",
    "ham_text = ''.join(ham_list)\n",
    "spam_text = ''.join(spam_list)\n",
    "\n",
    "print('Length of ham: ', len(ham_text))\n",
    "print('Length of spam: ', len(spam_text))"
   ]
  },
  {
   "cell_type": "markdown",
   "metadata": {},
   "source": [
    "**2. Tokenize**"
   ]
  },
  {
   "cell_type": "code",
   "execution_count": 13,
   "metadata": {},
   "outputs": [],
   "source": [
    "import jieba.analyse\n",
    "ham_without_stopwords = jieba.analyse.extract_tags(ham_text, 20000)\n",
    "spam_without_stopwords = jieba.analyse.extract_tags(spam_text, 8000)"
   ]
  },
  {
   "cell_type": "code",
   "execution_count": 14,
   "metadata": {},
   "outputs": [
    {
     "data": {
      "text/plain": [
       "7602"
      ]
     },
     "execution_count": 14,
     "metadata": {},
     "output_type": "execute_result"
    }
   ],
   "source": []
  }
 ],
 "metadata": {
  "kernelspec": {
   "display_name": "Python 3.7 (tensorflow)",
   "language": "python",
   "name": "tensorflow"
  },
  "language_info": {
   "codemirror_mode": {
    "name": "ipython",
    "version": 3
   },
   "file_extension": ".py",
   "mimetype": "text/x-python",
   "name": "python",
   "nbconvert_exporter": "python",
   "pygments_lexer": "ipython3",
   "version": "3.7.7"
  }
 },
 "nbformat": 4,
 "nbformat_minor": 4
}
