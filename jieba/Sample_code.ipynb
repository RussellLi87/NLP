{
 "cells": [
  {
   "cell_type": "markdown",
   "metadata": {},
   "source": [
    "## 1. 分词"
   ]
  },
  {
   "cell_type": "code",
   "execution_count": 1,
   "metadata": {},
   "outputs": [
    {
     "name": "stderr",
     "output_type": "stream",
     "text": [
      "Paddle enabled successfully......\n"
     ]
    }
   ],
   "source": [
    "import jieba\n",
    "\n",
    "jieba.enable_paddle()"
   ]
  },
  {
   "cell_type": "code",
   "execution_count": 2,
   "metadata": {},
   "outputs": [
    {
     "name": "stderr",
     "output_type": "stream",
     "text": [
      "Building prefix dict from the default dictionary ...\n",
      "Loading model from cache C:\\Users\\Russe\\AppData\\Local\\Temp\\jieba.cache\n"
     ]
    },
    {
     "name": "stdout",
     "output_type": "stream",
     "text": [
      "Paddle Mode: 我 来到 北京清华大学\n",
      "Paddle Mode: 乒乓球 拍卖 完 了\n",
      "Paddle Mode: 中国科学技术大学\n"
     ]
    },
    {
     "name": "stderr",
     "output_type": "stream",
     "text": [
      "Loading model cost 0.578 seconds.\n",
      "Prefix dict has been built successfully.\n"
     ]
    },
    {
     "name": "stdout",
     "output_type": "stream",
     "text": [
      "Full Mode: 我 来到 北京 清华 清华大学 华大 大学\n",
      "Default Mode: 我 来到 北京 清华大学\n",
      "他 来到 了 网易 杭研 大厦\n",
      "小明 硕士 毕业 于 中国 科学 学院 科学院 中国科学院 计算 计算所 ， 后 在 日本 京都 大学 日本京都大学 深造\n"
     ]
    }
   ],
   "source": [
    "strs=[\"我来到北京清华大学\", \"乒乓球拍卖完了\", \"中国科学技术大学\"]\n",
    "for str in strs:\n",
    "    seg_list = jieba.lcut(str, use_paddle=True) # 使用paddle模式\n",
    "    print('Paddle Mode: ' + ' '.join(seg_list))\n",
    "    \n",
    "seg_list = jieba.cut(\"我来到北京清华大学\", cut_all=True)\n",
    "print(\"Full Mode: \" + \" \".join(seg_list))  # 全模式\n",
    "\n",
    "seg_list = jieba.cut(\"我来到北京清华大学\", cut_all=False)\n",
    "print(\"Default Mode: \" + \" \".join(seg_list))  # 精确模式\n",
    "\n",
    "seg_list = jieba.cut(\"他来到了网易杭研大厦\")  # 默认是精确模式\n",
    "print(\" \".join(seg_list))\n",
    "\n",
    "seg_list = jieba.cut_for_search(\"小明硕士毕业于中国科学院计算所，后在日本京都大学深造\")  # 搜索引擎模式\n",
    "print(\" \".join(seg_list))"
   ]
  },
  {
   "cell_type": "markdown",
   "metadata": {},
   "source": [
    "## 2. 添加自定义词典\n",
    "\n",
    "### 2.1 载入词典\n",
    "\n",
    "- 开发者可以指定自己自定义的词典，以便包含 jieba 词库里没有的词。虽然 jieba 有新词识别能力，但是自行添加新词可以保证更高的正确率。\n",
    "\n",
    "- 用法： jieba.load_userdict(file_name) # file_name 为文件类对象或自定义词典的路径。\n",
    "\n",
    "- 词典格式和 dict.txt 一样，一个词占一行；每一行分三部分：词语、词频（可省略）、词性（可省略），用空格隔开，顺序不可颠倒。file_name 若为路径或二进制方式打开的文件，则文件必须为 UTF-8 编码。\n",
    "\n",
    "- 词频省略时使用自动计算的能保证分出该词的词频。\n",
    "\n",
    "[jieba doc](https://github.com/fxsjy/jieba/blob/master/README.md)\n",
    "\n",
    "## 3. 基于 TF-IDF 算法的关键词抽取\n",
    "\n",
    "*jieba.analyse.extract_tags(sentence, topK=20, withWeight=False, allowPOS=())*\n",
    "- sentence 为待提取的文本\n",
    "- topK 为返回几个 TF/IDF 权重最大的关键词，默认值为 20\n",
    "- withWeight 为是否一并返回关键词权重值，默认值为 False\n",
    "- allowPOS 仅包括指定词性的词，默认值为空，即不筛选\n",
    "*jieba.analyse.TFIDF(idf_path=None) 新建 TFIDF 实例，idf_path 为 IDF 频率文件*"
   ]
  },
  {
   "cell_type": "code",
   "execution_count": 24,
   "metadata": {},
   "outputs": [
    {
     "data": {
      "text/plain": [
       "[('河内', 2.95674657686), ('狱中', 2.7413079499033333), ('当场', 2.5266364525766667)]"
      ]
     },
     "execution_count": 24,
     "metadata": {},
     "output_type": "execute_result"
    }
   ],
   "source": [
    "with open('C:/Users/Russe/GitHub/NLP/SpaCY/test_article.utf8', encoding='utf-8') as f:\n",
    "    pol_art = f.readlines()\n",
    "\n",
    "article = ''.join(pol_art)\n",
    "\n",
    "jieba.analyse.extract_tags(article, topK=10, withWeight=True, allowPOS=(['s']))"
   ]
  },
  {
   "cell_type": "code",
   "execution_count": 25,
   "metadata": {},
   "outputs": [
    {
     "name": "stdout",
     "output_type": "stream",
     "text": [
      "数字 有时 并 不足以 说明 恐怖 的 程度 。 上面 的 描述 让 人 很 好 地 了解 了 柬埔寨 共产党 的 真实 本性 。 但 数字 确实 有助于 我们 了解 。 如果 没有 任何 一部分 人口 得以 幸免 ， 那么 哪 一部分 受害 最大 以及 何时 受害 ？ 柬埔寨 的 悲剧 如何 与 本世纪 其它 的 悲剧 以及 其 自身 较长 的 历史 相关 ？ 各种 方法 （ 人口 统计学 、 定量 微观 研究 、 目击者 报告 ） 本身 都 是 不 充分 的 ， 但 把 它们 组合 起来 ， 就 能 推动 我们 逐渐 看到 真相 。 \n",
      " \n",
      " 200 万人 死亡 ？ \n",
      " 我们 不可避免 地 必须 从 一个 总体 数据 开始 ； 即便 是 在 这里 ， 我们 也 发现 各种 说法 之间 存在 巨大 差异 。 这个 事实 本身 就 可以 作为 事件 规模 的 一个 指标 ： 屠杀 规模 越大 ， 就 越 难以 接受 它 ， 越 难以 把 它 归结为 确切 的 数字 。 每个 人 都 有 兴趣 朝 一个 或 另 一个 方向 延伸 这个 数字 ─ ─ 红色高棉 否认 他们 的 责任 ， 越南人 及其 盟友 为 他们 的 干预 辩解 。 1979 年 12 月 ， 波尔布 特 作为 柬共 领导人 最后 一次 接受 报纸 采访 时 声称 ， “ 由于 实施 了 我们 为 人民 带来 富足 的 政策 ， 只有 几千名 柬埔寨人 死亡 。 ” 乔森潘 （ Khieu   Samphan ） 在 1987 年 的 一份 官方 小册子 中说 得 更 精确 一点 ： 3 , 000 人 “ 由于 差错 而 ” 死亡 ； 11 , 000 名 “ 越南 特工 ” 被 杀 ； 3 万人 被 “ 渗透 该国 的 越南 特工 ” 所杀 。 该 文件 补充 说 ， 入侵 的 越南人 在 1979 年 和 1980 年 杀害 了 约 150 万名 柬埔寨人 。 最后 这个 数字 被 大大 夸大 了 ， 可以 合理 地被 视为 无意 中 承认 1975 年 以后 有 接近 那个 数字 的 人 死亡 ， 主要 是 红色高棉 活动 造成 的 结果 。 在 关于 内战 期间 4 月 17 日 之前 死亡 人数 的 说法 中 ， 对 数字 的 操纵 更为 明目张胆 。 1975 年 6 月 ， 波尔布 特 引用 了 60 万 这个 非常 夸张 的 数字 ； 到 1978 年 ， 他 谈到 “ 超过 140 万 ” 。 关于 红色高棉 的 死难者 ， 朗诺 总统 引述 说 有 250 万人 ； 1979 年 上台 的 柬埔寨 人民 革命党 （ PRPK ） 的 前 总书记 宾索 万 （ Pen   Sovan ） 引述 说 有 310 万人 ─ ─ 该 数字 用于 越南 宣传 中 ， 并 被 PRPK 所 使用 。 \n",
      " \n",
      " 尽管 自己 也 承认 存在 不确定性 但 可 被 认真对待 的 头 两项 研究 ， 是 本 ． 基尔 南 （ Ben   Kiernan ） 和 迈克尔 ． 维克里 （ Michael   Vickery ） 的 研究 。 前者 计算 出有 150 万人 死亡 ， 后者 得出 的 数字 是 该 数量 的 一半 。 斯蒂芬 ． 海德 （ Stephen   Heder ） 使用 基尔 南 的 数据 称 ， 死者 在 农民 与 新人 之间 平均分配 （ 这是 一个 难以 接受 的 主张 ） ， 也 在 饥荒 死难者 与 暗杀 死难者 之间 平均分配 。 大卫 ． 钱德勒 （ David   Chandler ） 是 该 领域 的 知名 专家 ， 但 他 自己 还 没 进行 过 分析 评估 。 他 估计 至少 有 80 万到 100 万人 死亡 。 中央 情报局 一项 基于 近似 数据 的 研究 估计 ， 1970 至 1979 年 总人口 赤字 （ 包括 由 这种 情况 导致 的 出生率 下降 ） 为 380 万 ， 包括 1970 至 1975 年 的 战争 损失 ， 并 由此 导致 1979 年 柬埔寨 人口 降为 520 万 。 另 一项 研究 基于 对 1970 年 和 1983 年 稻米 耕地面积 的 比较 分析 ， 提供 了 120 万 死难者 的 数字 。 在 最近 一项 使用 人口统计 方法 的 创新性 研究 中 ， 马立克 ． 斯 利文斯 基 （ Marek   Sliwinski ） 谈到 死亡 人数 稍 多于 200 万 ， 也 就是 26% 的 人口 ， 不 包括 因 自然 原因 导致 的 死亡 。 他 估计 ， 因 自然 原因 导致 的 死亡 人数 占 7% 。 斯 利文斯 基 的 是 唯一 一项 试图 将 1975 ～ 1979 年 的 数据 按 年龄 和 性别 分类 的 研究 。 他 得出 的 结论 是 ， 有 33.9% 的 男子 和 15.7% 的 妇女 死亡 。 这种 数量 上 的 差异 是 个 有力 的 证据 ， 证明 大部分 死亡 都 是因为 暗杀 。 死亡率 对 所有 年龄段 来说 都 是 惊人 的 ， 但 对 年轻人 群 （ 34% 的 20 至 30 岁 的 男子 、 40% 的 30 至 40 岁 的 男性 、 54% 的 60 岁 以上 的 两种 性别 的 人 ） 来说 尤其 高 。 正如 在 旧 制度 下 发生 的 大 饥荒 和 流行病 期间 一样 ， 出生率 暴跌 至 接近 零 ： 1970 年 为 3% ； 1978 年 它 是 1.1% 。 自 1945 年 以来 ， 世界 上 似乎 没有 其它 国家 遭受 过 如此 多 的 苦难 。 1990 年 ， 总人口 仍 未 恢复 到 1970 年 的 水平 。 人口 仍然 不 平衡 ， 女性 和 男性 比例 为 1.3 : 1 。 1989 年 ， 38% 的 成年 女性 是 寡妇 ， 而 只有 10% 的 成年 男性 是 鳏夫 。 接近 64% 的 成年 人口 是 女性 ， 35% 的 一家之主 是 女性 ， 这些 比例 与 在 美国 的 柬埔寨 难民 中是 相同 的 。 \n",
      " \n",
      " 这一 损失 程度 ─ ─ 至少 七分 之一 ， 更 可能 是 五分之一 或 四分之一 ─ ─ 足以 彻底 驳倒 这个 经常 听到 的 观点 ： 红色高棉 的 暴力 无论 多么 可怕 ， 都 只是 一个 被 美国 轰炸 的 原罪 而 逼 疯 的 民族 的 反应 。 许多 其它 民族 ─ ─ 包括 英国人 、 德国人 、 日本 人 和 越南人 ─ ─ 本世纪 在 轰炸 袭击 中遭 了 不少 罪 ， 结果 没有 极端主义 的 热情 在 他们 的 人口 中 扎根 ； 实际上 情况 往往 相反 。 无论 战争 的 蹂躏 如何 严重 ， 它们 都 无法 与 柬埔寨 共产党 在 和平时期 所 达成 的 相提并论 ， 即使 排除 过去 的 一年 以及 与 越南 的 边界 冲突 也 是 如此 。 波尔布 特 本人 对 将 数字 减 到 最小 毫无 兴趣 。 他 声称 ， 内战 夺走 了 60 万人 的 生命 。 尽管 他 从未 解释 过 这个 数字 是 如何 确定 的 ， 但 它 经常 被 其他 专家 所 接受 。 钱德勒 相当 随便 地 谈起 “ 50 万名 死难者 ” ， 并 引述 不同 的 研究 称 ， 美国 的 轰炸 袭击 使 3 万至 25 万人 死亡 。 斯 利文斯 基 认为 ， 24 万名 死难者 是 个 合理 的 数字 ， 或许 应当 加上 7 万名 越南 平民 ， 其中 大多数 人死于 1970 年 的 大屠杀 。 根据 他 的 计算 ， 4 万人 死 于 轰炸 ， 其中 四分之一 是 军人 。 他 还 指出 ， 受 轰炸 影响 最 严重 的 地区 ， 人口密度 相对 较 小 ， 1970 年 可能 容纳 有 不 超过 100 万 居民 ， 其中 许多 人 逃往 城市 。 相比之下 ， 红色高棉 在 战争 期间 进行 的 暗杀 可能 共有 约 75 , 000 起 。 毫无疑问 ， 战争 削弱 了 社会 的 抵抗力 ， 毁灭 了 精英 人口 和 受过 教育 的 人口 ， 或者 令 他们 意志 消沉 。 与此同时 ， 由于 河内 的 战略 选择 和 西哈努克 不负责任 的 决定 ， 红色高棉 的 力量 大大 增强 。 因此 ， 1970 年 政变 企图 的 幕后策划 者 要 为 他们 干 的 许多 事情 负责 。 但 那些 都 不 影响 柬共为 1975 年 以后 的 行动 要 负 的 责任 ； 那些 年 的 暴力 毫无 自发性 可言 。 \n",
      " \n",
      " 对于 不同 模式 大屠杀 的 死难者 人数 ， 严肃 的 定量 研究 还 提供 了 一些 估计值 。 对 城市居民 的 强迫 农村化 （ 包括 在 运输 过程 中 的 死亡 、 工作 中 的 精疲力竭 等等 ） 导致 最多 40 万人 死亡 ， 而且 很 有 可能 更 少 。 处决 是 最 难以 估算 的 ； 平均数 在 50 万左右 徘徊 。 通过 推断 过程 ， 亨利 ． 洛 卡德 计算 出 ， 40 万至 60 万人 在 狱中 死亡 。 这个 数字 不 包括 当场 进行 的 处决 ， 这些 处决 的 数量 也 极其 巨大 。 斯 利文斯 基 得出 总共 进行 了 100 万例 处决 。 饥饿 和 疾病 无疑 是 最大 的 杀手 ， 对 至少 70 万人 的 死亡 负责 。 斯 利文斯 基在 这种 情况 下 提到 了 90 万人 ， 包括 直接 因 农村化 而 丧失 的 生命 。 （ 待续 ）\n"
     ]
    }
   ],
   "source": [
    "seg_list = jieba.cut(article)  # 默认是精确模式\n",
    "print(\" \".join(seg_list))"
   ]
  }
 ],
 "metadata": {
  "kernelspec": {
   "display_name": "Python 3.7 (tensorflow)",
   "language": "python",
   "name": "tensorflow"
  },
  "language_info": {
   "codemirror_mode": {
    "name": "ipython",
    "version": 3
   },
   "file_extension": ".py",
   "mimetype": "text/x-python",
   "name": "python",
   "nbconvert_exporter": "python",
   "pygments_lexer": "ipython3",
   "version": "3.7.7"
  }
 },
 "nbformat": 4,
 "nbformat_minor": 4
}
