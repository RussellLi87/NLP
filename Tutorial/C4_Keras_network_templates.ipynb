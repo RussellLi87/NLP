{
 "cells": [
  {
   "cell_type": "markdown",
   "metadata": {},
   "source": [
    "## Standard Network Models\n",
    "\n",
    "**1. Multilayer Perceptron**\n",
    "\n",
    "In this section, we define a Multilayer Perceptron model for binary classification. The model\n",
    "has 10 inputs, 3 hidden layers with 10, 20, and 10 neurons, and an output layer with 1 output.\n",
    "Rectified linear activation functions are used in each hidden layer and a sigmoid activation\n",
    "function is used in the output layer, for binary classification."
   ]
  },
  {
   "cell_type": "code",
   "execution_count": null,
   "metadata": {},
   "outputs": [],
   "source": [
    "# Multilayer Perceptron\n",
    "\n",
    "from tensorflow.keras.utils import plot_model\n",
    "from tensorflow.keras.models import Model\n",
    "from tensorflow.keras.layers import Input, Dense\n",
    "\n",
    "visible = Input(shape=(10,))\n",
    "hidden_1 = Dense(10, activation='relu')(visible)\n",
    "hidden_2 = Dense(20, activation='relu')(hidden_1)\n",
    "hidden_3 = Dense(10, activation='relu')(hidden_2)\n",
    "output = Dense(1, activation='sigmoid')(hidden_3)\n",
    "model = Model(inputs=visible, outputs=output)\n",
    "\n",
    "# summarize layers\n",
    "model.summary()\n",
    "\n",
    "# plot graph\n",
    "plot_model(model, to_file='multilayer_perceptron_graph.png')"
   ]
  },
  {
   "cell_type": "markdown",
   "metadata": {},
   "source": [
    "**2. Convolutional Neural Network**\n",
    "\n",
    "In this section, we will define a convolutional neural network for image classification. The model\n",
    "receives black and white 64 x 64 images as input, then has a sequence of two convolutional and\n",
    "pooling layers as feature extractors, followed by a fully connected layer to interpret the features\n",
    "and an output layer with a sigmoid activation for two-class predictions."
   ]
  },
  {
   "cell_type": "code",
   "execution_count": null,
   "metadata": {},
   "outputs": [],
   "source": [
    "# Convolutional Neural Network\n",
    "from tensorflow.keras.utils import plot_model\n",
    "from tensorflow.keras.models import Model\n",
    "from tensorflow.keras.layers import Input, Dense, Conv2D, MaxPooling2D\n",
    "\n",
    "visible = Input(shape=(64, 64, 1))\n",
    "conv_1 = Conv2D(32, 4, activation='relu')(visible)\n",
    "pool_1 = MaxPooling2D((2, 2))(conv_1)\n",
    "conv_2 = Conv2D(16, 4, activation='relu')(pool_1)\n",
    "pool_2 = MaxPooling2D((2, 2))(conv_2)\n",
    "hidden_1 = Dense(10, activation='relu')(pool_2)\n",
    "output = Dense(1, activation='sigmoid')(hidden_1)\n",
    "model = Model(inputs=visible, outputs=output)\n",
    "\n",
    "# summarize layers\n",
    "model.summary()\n",
    "\n",
    "# plot graph\n",
    "plot_model(model, to_file='convolutional_neural_network.png')"
   ]
  },
  {
   "cell_type": "markdown",
   "metadata": {},
   "source": [
    "**3. Recurrent Neural Network**\n",
    "\n",
    "In this section, we will define a long short-term memory recurrent neural network for sequence\n",
    "classification. The model expects 100 time steps of one feature as input. The model has a single\n",
    "LSTM hidden layer to extract features from the sequence, followed by a fully connected layer to\n",
    "interpret the LSTM output, followed by an output layer for making binary predictions."
   ]
  },
  {
   "cell_type": "code",
   "execution_count": 4,
   "metadata": {},
   "outputs": [
    {
     "name": "stdout",
     "output_type": "stream",
     "text": [
      "Model: \"model_2\"\n",
      "_________________________________________________________________\n",
      "Layer (type)                 Output Shape              Param #   \n",
      "=================================================================\n",
      "input_3 (InputLayer)         [(None, 100, 1)]          0         \n",
      "_________________________________________________________________\n",
      "lstm (LSTM)                  (None, 10)                480       \n",
      "_________________________________________________________________\n",
      "dense_6 (Dense)              (None, 10)                110       \n",
      "_________________________________________________________________\n",
      "dense_7 (Dense)              (None, 1)                 11        \n",
      "=================================================================\n",
      "Total params: 601\n",
      "Trainable params: 601\n",
      "Non-trainable params: 0\n",
      "_________________________________________________________________\n"
     ]
    },
    {
     "data": {
      "image/png": "[encoded data removed]",
      "text/plain": [
       "<IPython.core.display.Image object>"
      ]
     },
     "execution_count": 4,
     "metadata": {},
     "output_type": "execute_result"
    }
   ],
   "source": [
    "# Recurrent Neural Network\n",
    "from tensorflow.keras.utils import plot_model\n",
    "from tensorflow.keras.models import Model\n",
    "from tensorflow.keras.layers import Input, Dense, LSTM\n",
    "\n",
    "visible = Input(shape=(100, 1))\n",
    "hidden_1 = LSTM(10)(visible)\n",
    "hidden_2 = Dense(10, activation='relu')(hidden_1)\n",
    "output = Dense(1, activation='sigmoid')(hidden_2)\n",
    "model = Model(inputs=visible, outputs=output)\n",
    "\n",
    "# summarize layers\n",
    "model.summary()\n",
    "\n",
    "# plot graph\n",
    "plot_model(model, to_file='recurrent_neural_network.png')"
   ]
  }
 ],
 "metadata": {
  "kernelspec": {
   "display_name": "Python 3.7 (tensorflow)",
   "language": "python",
   "name": "tensorflow"
  },
  "language_info": {
   "codemirror_mode": {
    "name": "ipython",
    "version": 3
   },
   "file_extension": ".py",
   "mimetype": "text/x-python",
   "name": "python",
   "nbconvert_exporter": "python",
   "pygments_lexer": "ipython3",
   "version": "3.7.7"
  }
 },
 "nbformat": 4,
 "nbformat_minor": 4
}
